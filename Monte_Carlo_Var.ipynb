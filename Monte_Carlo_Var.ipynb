{
 "cells": [
  {
   "cell_type": "code",
   "execution_count": 1,
   "metadata": {},
   "outputs": [],
   "source": [
    "import pandas as pd\n",
    "import numpy as np\n",
    "import datetime\n",
    "from scipy import stats\n",
    "import quandl\n",
    "quandl.ApiConfig.api_key = \"your_api_key\""
   ]
  },
  {
   "cell_type": "code",
   "execution_count": 45,
   "metadata": {},
   "outputs": [],
   "source": [
    "end = datetime.datetime.now()\n",
    "start = end - datetime.timedelta(365)\n",
    "AAPL = quandl.get('EOD/AAPL', start_date=start, end_date=end)"
   ]
  },
  {
   "cell_type": "code",
   "execution_count": 48,
   "metadata": {},
   "outputs": [],
   "source": [
    "rets_1 = (AAPL['Close']/AAPL['Close'].shift(1))-1"
   ]
  },
  {
   "cell_type": "code",
   "execution_count": 50,
   "metadata": {},
   "outputs": [
    {
     "name": "stdout",
     "output_type": "stream",
     "text": [
      "-0.0011221457021670133 0.020937764957353413 -2.3263478740408408 494.01\n"
     ]
    }
   ],
   "source": [
    "mean = np.mean(rets_1)\n",
    "std = np.std(rets_1)\n",
    "Z_99 = stats.norm.ppf(1-0.99)\n",
    "price = AAPL.iloc[-1]['Close']\n",
    "print(mean, std, Z_99, price)"
   ]
  },
  {
   "cell_type": "markdown",
   "metadata": {},
   "source": [
    "## parametric and historical VAR"
   ]
  },
  {
   "cell_type": "code",
   "execution_count": 51,
   "metadata": {},
   "outputs": [
    {
     "name": "stdout",
     "output_type": "stream",
     "text": [
      "Parametric VAR is -24.062 and Historical VAR is -27.266\n"
     ]
    }
   ],
   "source": [
    "ParamVAR = price*Z_99*std\n",
    "HistVAR = price*np.percentile(rets_1.dropna(), 1)\n",
    "\n",
    "print('Parametric VAR is {0:.3f} and Historical VAR is {1:.3f}'\n",
    "      .format(ParamVAR, HistVAR))"
   ]
  },
  {
   "cell_type": "markdown",
   "metadata": {},
   "source": [
    "## Var by Monte Carlo simulation, simply appling a simulation using the assumptions of normality, and the mean and std computed above."
   ]
  },
  {
   "cell_type": "code",
   "execution_count": 57,
   "metadata": {},
   "outputs": [
    {
     "name": "stdout",
     "output_type": "stream",
     "text": [
      "Simulated VAR is  -24.619048519589708\n"
     ]
    }
   ],
   "source": [
    "np.random.seed(42)\n",
    "n_sims = 1000000\n",
    "sim_returns = np.random.normal(mean, std, n_sims)\n",
    "SimVAR = price*np.percentile(sim_returns, 1)\n",
    "print('Simulated VAR is ', SimVAR)"
   ]
  }
 ],
 "metadata": {
  "kernelspec": {
   "display_name": "Python 3",
   "language": "python",
   "name": "python3"
  },
  "language_info": {
   "codemirror_mode": {
    "name": "ipython",
    "version": 3
   },
   "file_extension": ".py",
   "mimetype": "text/x-python",
   "name": "python",
   "nbconvert_exporter": "python",
   "pygments_lexer": "ipython3",
   "version": "3.7.4"
  }
 },
 "nbformat": 4,
 "nbformat_minor": 2
}
