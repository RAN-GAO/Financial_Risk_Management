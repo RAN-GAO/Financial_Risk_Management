{
 "cells": [
  {
   "cell_type": "code",
   "execution_count": 1,
   "metadata": {},
   "outputs": [],
   "source": [
    "import pandas as pd\n",
    "import numpy as np\n",
    "import datetime\n",
    "from scipy import stats\n",
    "import pandas_datareader.data as web"
   ]
  },
  {
   "cell_type": "code",
   "execution_count": 2,
   "metadata": {},
   "outputs": [],
   "source": [
    "end = datetime.datetime.now()\n",
    "start = end - datetime.timedelta(365)\n",
    "AAPL = web.get_data_yahoo('AAPL',start,end)"
   ]
  },
  {
   "cell_type": "code",
   "execution_count": 3,
   "metadata": {
    "scrolled": false
   },
   "outputs": [
    {
     "name": "stdout",
     "output_type": "stream",
     "text": [
      "<class 'pandas.core.frame.DataFrame'>\n",
      "DatetimeIndex: 251 entries, 2019-02-25 to 2020-02-21\n",
      "Data columns (total 6 columns):\n",
      "High         251 non-null float64\n",
      "Low          251 non-null float64\n",
      "Open         251 non-null float64\n",
      "Close        251 non-null float64\n",
      "Volume       251 non-null float64\n",
      "Adj Close    251 non-null float64\n",
      "dtypes: float64(6)\n",
      "memory usage: 13.7 KB\n"
     ]
    }
   ],
   "source": [
    "AAPL.info()"
   ]
  },
  {
   "cell_type": "code",
   "execution_count": 4,
   "metadata": {},
   "outputs": [],
   "source": [
    "rets_1 = (AAPL['Close']/AAPL['Close'].shift(1))-1"
   ]
  },
  {
   "cell_type": "code",
   "execution_count": 5,
   "metadata": {},
   "outputs": [
    {
     "name": "stdout",
     "output_type": "stream",
     "text": [
      "0.0024600516229859207 0.0150374017773006 -2.3263478740408408 313.04998779296875\n"
     ]
    }
   ],
   "source": [
    "mean = np.mean(rets_1)\n",
    "std = np.std(rets_1)\n",
    "Z_99 = stats.norm.ppf(1-0.99)\n",
    "price = AAPL.iloc[-1]['Close']\n",
    "print(mean, std, Z_99, price)"
   ]
  },
  {
   "cell_type": "markdown",
   "metadata": {},
   "source": [
    "## parametric and historical VAR"
   ]
  },
  {
   "cell_type": "code",
   "execution_count": 6,
   "metadata": {},
   "outputs": [
    {
     "name": "stdout",
     "output_type": "stream",
     "text": [
      "Parametric VAR is -10.951 and Historical VAR is -14.181\n"
     ]
    }
   ],
   "source": [
    "ParamVAR = price*Z_99*std\n",
    "HistVAR = price*np.percentile(rets_1.dropna(), 1)\n",
    "\n",
    "print('Parametric VAR is {0:.3f} and Historical VAR is {1:.3f}'\n",
    "      .format(ParamVAR, HistVAR))"
   ]
  },
  {
   "cell_type": "markdown",
   "metadata": {},
   "source": [
    "## Var by Monte Carlo simulation, simply appling a simulation using the assumptions of normality, and the mean and std computed above."
   ]
  },
  {
   "cell_type": "code",
   "execution_count": 7,
   "metadata": {},
   "outputs": [
    {
     "name": "stdout",
     "output_type": "stream",
     "text": [
      "Simulated VAR is  -10.19950538775584\n"
     ]
    }
   ],
   "source": [
    "np.random.seed(42)\n",
    "n_sims = 1000000\n",
    "sim_returns = np.random.normal(mean, std, n_sims)\n",
    "SimVAR = price*np.percentile(sim_returns, 1)\n",
    "print('Simulated VAR is ', SimVAR)"
   ]
  }
 ],
 "metadata": {
  "kernelspec": {
   "display_name": "Python 3",
   "language": "python",
   "name": "python3"
  },
  "language_info": {
   "codemirror_mode": {
    "name": "ipython",
    "version": 3
   },
   "file_extension": ".py",
   "mimetype": "text/x-python",
   "name": "python",
   "nbconvert_exporter": "python",
   "pygments_lexer": "ipython3",
   "version": "3.7.4"
  }
 },
 "nbformat": 4,
 "nbformat_minor": 2
}
